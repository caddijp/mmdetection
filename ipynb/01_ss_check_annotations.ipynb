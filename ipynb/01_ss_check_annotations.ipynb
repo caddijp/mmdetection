{
 "cells": [
  {
   "cell_type": "markdown",
   "metadata": {},
   "source": [
    "# Check the annotations\n",
    "- エラーとして　length is 0 的なエラーが出るので、全部の annotations が少なくとも１つあることを確認する\n",
    "- ついでに train/test/val split をしてみる\n",
    "\n",
    "```\n",
    "fy2022\n",
    "    / 0127 -> 80, 10, 10\n",
    "        splits.csv  # id, train_test_val\n",
    "        /train\n",
    "            /images\n",
    "            annotation.json\n",
    "        /test\n",
    "            /images\n",
    "            annotation.json\n",
    "        /val\n",
    "            /images\n",
    "            annotation.json\n",
    "```"
   ]
  },
  {
   "cell_type": "code",
   "execution_count": 20,
   "metadata": {},
   "outputs": [],
   "source": [
    "from __future__ import annotations\n",
    "import json\n",
    "from pathlib import Path\n",
    "import pandas as pd\n",
    "import mmcv\n",
    "# split the unique ids into train/test/val\n",
    "from sklearn.model_selection import train_test_split"
   ]
  },
  {
   "cell_type": "code",
   "execution_count": 6,
   "metadata": {},
   "outputs": [],
   "source": [
    "root_path = Path(\"../data/bkt-orama-anocci-prod/caddi/fy2022q1-200/\")\n",
    "images_from_dir = root_path / \"images\"\n",
    "annotations_file = root_path / \"annots/caddi-fy2022q1-200.json\"\n",
    "exp_dir = root_path / \"0127\"\n",
    "csv_file = exp_dir / \"splits.csv\"\n",
    "\n",
    "def get_dir(phase=\"train\") -> tuple[Path, Path]:\n",
    "    \"\"\"get image and annotation dir\"\"\"\n",
    "    base = exp_dir / phase \n",
    "    images = base / \"images\"\n",
    "    annots = base / \"annotation.json\"\n",
    "    return images, annots\n",
    "\n",
    "im_dir, an_file = get_dir()"
   ]
  },
  {
   "cell_type": "code",
   "execution_count": 38,
   "metadata": {},
   "outputs": [
    {
     "data": {
      "text/plain": [
       "dict_keys(['info', 'licenses', 'images', 'annotations', 'categories'])"
      ]
     },
     "execution_count": 38,
     "metadata": {},
     "output_type": "execute_result"
    }
   ],
   "source": [
    "annotations = mmcv.load(annotations_file)\n",
    "annotations.keys()"
   ]
  },
  {
   "cell_type": "code",
   "execution_count": 39,
   "metadata": {},
   "outputs": [],
   "source": [
    "df = pd.DataFrame(annotations['annotations'])\n",
    "images = pd.DataFrame(annotations['images'])"
   ]
  },
  {
   "cell_type": "code",
   "execution_count": 40,
   "metadata": {},
   "outputs": [
    {
     "data": {
      "text/html": [
       "<div>\n",
       "<style scoped>\n",
       "    .dataframe tbody tr th:only-of-type {\n",
       "        vertical-align: middle;\n",
       "    }\n",
       "\n",
       "    .dataframe tbody tr th {\n",
       "        vertical-align: top;\n",
       "    }\n",
       "\n",
       "    .dataframe thead th {\n",
       "        text-align: right;\n",
       "    }\n",
       "</style>\n",
       "<table border=\"1\" class=\"dataframe\">\n",
       "  <thead>\n",
       "    <tr style=\"text-align: right;\">\n",
       "      <th></th>\n",
       "      <th>id</th>\n",
       "      <th>image_id</th>\n",
       "      <th>segmentation</th>\n",
       "      <th>area</th>\n",
       "      <th>iscrowd</th>\n",
       "      <th>bbox</th>\n",
       "      <th>category_id</th>\n",
       "    </tr>\n",
       "  </thead>\n",
       "  <tbody>\n",
       "    <tr>\n",
       "      <th>0</th>\n",
       "      <td>0</td>\n",
       "      <td>0</td>\n",
       "      <td>[[1376.28662109375, 1914.3616943359375, 1376.2...</td>\n",
       "      <td>226886.300170</td>\n",
       "      <td>0</td>\n",
       "      <td>[1376.28662109375, 1914.3616943359375, 466.211...</td>\n",
       "      <td>1</td>\n",
       "    </tr>\n",
       "    <tr>\n",
       "      <th>1</th>\n",
       "      <td>1</td>\n",
       "      <td>0</td>\n",
       "      <td>[[1377.6597900390625, 2740.48291015625, 1377.6...</td>\n",
       "      <td>308129.399743</td>\n",
       "      <td>0</td>\n",
       "      <td>[1377.6597900390625, 2740.48291015625, 466.751...</td>\n",
       "      <td>1</td>\n",
       "    </tr>\n",
       "    <tr>\n",
       "      <th>2</th>\n",
       "      <td>2</td>\n",
       "      <td>1</td>\n",
       "      <td>[[2086.919189453125, 2363.779052734375, 2086.9...</td>\n",
       "      <td>171346.469903</td>\n",
       "      <td>0</td>\n",
       "      <td>[2086.919189453125, 2363.779052734375, 424.510...</td>\n",
       "      <td>1</td>\n",
       "    </tr>\n",
       "    <tr>\n",
       "      <th>3</th>\n",
       "      <td>3</td>\n",
       "      <td>1</td>\n",
       "      <td>[[980.4075927734376, 2367.258544921875, 980.40...</td>\n",
       "      <td>70514.600412</td>\n",
       "      <td>0</td>\n",
       "      <td>[980.4075927734376, 2367.258544921875, 180.938...</td>\n",
       "      <td>1</td>\n",
       "    </tr>\n",
       "    <tr>\n",
       "      <th>4</th>\n",
       "      <td>4</td>\n",
       "      <td>2</td>\n",
       "      <td>[[1258.90478515625, 2021.5059814453125, 1258.9...</td>\n",
       "      <td>198404.788943</td>\n",
       "      <td>0</td>\n",
       "      <td>[1258.90478515625, 2021.5059814453125, 133.895...</td>\n",
       "      <td>1</td>\n",
       "    </tr>\n",
       "  </tbody>\n",
       "</table>\n",
       "</div>"
      ],
      "text/plain": [
       "   id  image_id                                       segmentation  \\\n",
       "0   0         0  [[1376.28662109375, 1914.3616943359375, 1376.2...   \n",
       "1   1         0  [[1377.6597900390625, 2740.48291015625, 1377.6...   \n",
       "2   2         1  [[2086.919189453125, 2363.779052734375, 2086.9...   \n",
       "3   3         1  [[980.4075927734376, 2367.258544921875, 980.40...   \n",
       "4   4         2  [[1258.90478515625, 2021.5059814453125, 1258.9...   \n",
       "\n",
       "            area  iscrowd                                               bbox  \\\n",
       "0  226886.300170        0  [1376.28662109375, 1914.3616943359375, 466.211...   \n",
       "1  308129.399743        0  [1377.6597900390625, 2740.48291015625, 466.751...   \n",
       "2  171346.469903        0  [2086.919189453125, 2363.779052734375, 424.510...   \n",
       "3   70514.600412        0  [980.4075927734376, 2367.258544921875, 180.938...   \n",
       "4  198404.788943        0  [1258.90478515625, 2021.5059814453125, 133.895...   \n",
       "\n",
       "   category_id  \n",
       "0            1  \n",
       "1            1  \n",
       "2            1  \n",
       "3            1  \n",
       "4            1  "
      ]
     },
     "execution_count": 40,
     "metadata": {},
     "output_type": "execute_result"
    }
   ],
   "source": [
    "df.head()"
   ]
  },
  {
   "cell_type": "code",
   "execution_count": 16,
   "metadata": {},
   "outputs": [
    {
     "name": "stdout",
     "output_type": "stream",
     "text": [
      "200\n"
     ]
    }
   ],
   "source": [
    "unique_ids = df.image_id.unique()\n",
    "print(len(unique_ids))"
   ]
  },
  {
   "cell_type": "code",
   "execution_count": 17,
   "metadata": {},
   "outputs": [
    {
     "data": {
      "text/plain": [
       "(PosixPath('../data/bkt-orama-anocci-prod/caddi/fy2022q1-200/0127/train/images'),\n",
       " PosixPath('../data/bkt-orama-anocci-prod/caddi/fy2022q1-200/0127/train/annotation.json'))"
      ]
     },
     "execution_count": 17,
     "metadata": {},
     "output_type": "execute_result"
    }
   ],
   "source": [
    "im_dir, an_file = get_dir()\n",
    "im_dir, an_file"
   ]
  },
  {
   "cell_type": "code",
   "execution_count": 14,
   "metadata": {},
   "outputs": [],
   "source": []
  },
  {
   "cell_type": "code",
   "execution_count": 24,
   "metadata": {},
   "outputs": [],
   "source": [
    "def make_splits(unique_ids, ratio=[80, 10, 10]) -> dict[str, list]:\n",
    "    \"\"\"split by ratio [train, val, test] \"\"\"\n",
    "    train_size = ratio[0] / sum(ratio)\n",
    "    val_size = ratio[1]  / sum(ratio[1:])\n",
    "    train, val_test = train_test_split(unique_ids, train_size=train_size, random_state=42)\n",
    "    val, test = train_test_split(val_test, train_size=val_size, random_state=42)\n",
    "    res = {\n",
    "        \"train\": train,\n",
    "        \"val\": val,\n",
    "        \"test\": test,\n",
    "    }\n",
    "    print([f\"{key}: {len(val)}\" for key, val in res.items()])\n",
    "    return res"
   ]
  },
  {
   "cell_type": "code",
   "execution_count": 55,
   "metadata": {},
   "outputs": [
    {
     "name": "stdout",
     "output_type": "stream",
     "text": [
      "['train: 160', 'val: 20', 'test: 20']\n"
     ]
    }
   ],
   "source": [
    "splits = make_splits(unique_ids)"
   ]
  },
  {
   "cell_type": "code",
   "execution_count": 56,
   "metadata": {},
   "outputs": [],
   "source": [
    "for_df = []\n",
    "for phase in ['train', 'test', 'val']:\n",
    "    ids = splits[phase]\n",
    "\n",
    "    # add df\n",
    "    df_part = pd.DataFrame({'iamge_ids': ids}) \n",
    "    df_part['phase'] = phase\n",
    "    for_df.append(df_part.copy())\n",
    "\n",
    "df_ids = pd.concat(for_df)"
   ]
  },
  {
   "cell_type": "code",
   "execution_count": 57,
   "metadata": {},
   "outputs": [],
   "source": [
    "csv_file.parent.mkdir(exist_ok=True)\n",
    "df_ids.to_csv(csv_file, index=None)"
   ]
  },
  {
   "cell_type": "code",
   "execution_count": 58,
   "metadata": {},
   "outputs": [
    {
     "name": "stdout",
     "output_type": "stream",
     "text": [
      "160\n",
      "20\n",
      "20\n"
     ]
    }
   ],
   "source": [
    "import shutil\n",
    "def copy_images(images, ids, im_dir):\n",
    "    # get image path\n",
    "    # subprocess popen cp\n",
    "    print(len(ids))\n",
    "    for image_id in ids:\n",
    "        file_name = images.loc[images.id == image_id].file_name.to_list()[0]\n",
    "        to_path = im_dir / file_name\n",
    "        from_path = images_from_dir / file_name\n",
    "        to_path.parent.mkdir(parents=True, exist_ok=True)\n",
    "        shutil.copyfile(from_path, to_path)\n",
    "\n",
    "# splits = make_splits(unique_ids)\n",
    "for phase in ['train', 'test', 'val']:\n",
    "    ids = splits[phase]\n",
    "    im_dir, _ = get_dir(phase)\n",
    "    copy_images(images, ids, im_dir)\n"
   ]
  },
  {
   "cell_type": "code",
   "execution_count": 59,
   "metadata": {},
   "outputs": [
    {
     "data": {
      "text/html": [
       "<div>\n",
       "<style scoped>\n",
       "    .dataframe tbody tr th:only-of-type {\n",
       "        vertical-align: middle;\n",
       "    }\n",
       "\n",
       "    .dataframe tbody tr th {\n",
       "        vertical-align: top;\n",
       "    }\n",
       "\n",
       "    .dataframe thead th {\n",
       "        text-align: right;\n",
       "    }\n",
       "</style>\n",
       "<table border=\"1\" class=\"dataframe\">\n",
       "  <thead>\n",
       "    <tr style=\"text-align: right;\">\n",
       "      <th></th>\n",
       "      <th>id</th>\n",
       "      <th>license</th>\n",
       "      <th>file_name</th>\n",
       "      <th>coco_url</th>\n",
       "      <th>height</th>\n",
       "      <th>width</th>\n",
       "      <th>date_captured</th>\n",
       "      <th>flickr_url</th>\n",
       "    </tr>\n",
       "  </thead>\n",
       "  <tbody>\n",
       "    <tr>\n",
       "      <th>0</th>\n",
       "      <td>0</td>\n",
       "      <td>0</td>\n",
       "      <td>target-001.png</td>\n",
       "      <td></td>\n",
       "      <td>4963</td>\n",
       "      <td>3509</td>\n",
       "      <td></td>\n",
       "      <td></td>\n",
       "    </tr>\n",
       "    <tr>\n",
       "      <th>1</th>\n",
       "      <td>1</td>\n",
       "      <td>0</td>\n",
       "      <td>target-002.png</td>\n",
       "      <td></td>\n",
       "      <td>4963</td>\n",
       "      <td>3509</td>\n",
       "      <td></td>\n",
       "      <td></td>\n",
       "    </tr>\n",
       "    <tr>\n",
       "      <th>2</th>\n",
       "      <td>2</td>\n",
       "      <td>0</td>\n",
       "      <td>target-003.png</td>\n",
       "      <td></td>\n",
       "      <td>4963</td>\n",
       "      <td>3509</td>\n",
       "      <td></td>\n",
       "      <td></td>\n",
       "    </tr>\n",
       "    <tr>\n",
       "      <th>3</th>\n",
       "      <td>3</td>\n",
       "      <td>0</td>\n",
       "      <td>target-004.png</td>\n",
       "      <td></td>\n",
       "      <td>4963</td>\n",
       "      <td>3509</td>\n",
       "      <td></td>\n",
       "      <td></td>\n",
       "    </tr>\n",
       "    <tr>\n",
       "      <th>4</th>\n",
       "      <td>4</td>\n",
       "      <td>0</td>\n",
       "      <td>target-005.png</td>\n",
       "      <td></td>\n",
       "      <td>4963</td>\n",
       "      <td>3509</td>\n",
       "      <td></td>\n",
       "      <td></td>\n",
       "    </tr>\n",
       "  </tbody>\n",
       "</table>\n",
       "</div>"
      ],
      "text/plain": [
       "   id  license       file_name coco_url  height  width date_captured  \\\n",
       "0   0        0  target-001.png             4963   3509                 \n",
       "1   1        0  target-002.png             4963   3509                 \n",
       "2   2        0  target-003.png             4963   3509                 \n",
       "3   3        0  target-004.png             4963   3509                 \n",
       "4   4        0  target-005.png             4963   3509                 \n",
       "\n",
       "  flickr_url  \n",
       "0             \n",
       "1             \n",
       "2             \n",
       "3             \n",
       "4             "
      ]
     },
     "execution_count": 59,
     "metadata": {},
     "output_type": "execute_result"
    }
   ],
   "source": [
    "images.head()"
   ]
  },
  {
   "cell_type": "markdown",
   "metadata": {},
   "source": [
    "df_annotations_categories = pd.DataFrame(annotations['categories'])\n",
    "df_annotations_categories\n",
    "\n",
    "df_category_new = df_annotations_categories.iloc[1:2, :]\n",
    "df_category_new"
   ]
  },
  {
   "cell_type": "code",
   "execution_count": 60,
   "metadata": {},
   "outputs": [
    {
     "data": {
      "text/plain": [
       "dict_keys(['info', 'licenses', 'images', 'annotations', 'categories'])"
      ]
     },
     "execution_count": 60,
     "metadata": {},
     "output_type": "execute_result"
    }
   ],
   "source": [
    "annotations.keys()"
   ]
  },
  {
   "cell_type": "code",
   "execution_count": 63,
   "metadata": {},
   "outputs": [
    {
     "name": "stdout",
     "output_type": "stream",
     "text": [
      "160\n",
      "20\n",
      "20\n"
     ]
    }
   ],
   "source": [
    "# splits = make_splits(unique_ids)\n",
    "annotations_overwrite = annotations.copy()\n",
    "\n",
    "for phase in ['train', 'test', 'val']:\n",
    "    ids = splits[phase]\n",
    "    _, an_dir = get_dir(phase)\n",
    "\n",
    "    # get subset of annotations\n",
    "    coco_df = df.loc[df.image_id.isin(ids)]\n",
    "    coco_format = coco_df.to_dict('records')\n",
    "    annotations_overwrite['annotations'] = coco_format\n",
    "\n",
    "    # get subset of images\n",
    "    images_subset = images.loc[images.id.isin(ids)]\n",
    "    images_subset_coco = images_subset.to_dict('records')\n",
    "    annotations_overwrite['images'] = images_subset_coco \n",
    "\n",
    "    # overwrite category\n",
    "    # new_category = df_category_new.to_dict('records')\n",
    "    # annotations_overwrite['categories'] = new_category\n",
    "    mmcv.dump(annotations_overwrite, an_dir)\n",
    "    print(pd.DataFrame(coco_format).image_id.nunique())"
   ]
  },
  {
   "cell_type": "code",
   "execution_count": 64,
   "metadata": {},
   "outputs": [
    {
     "data": {
      "text/plain": [
       "20"
      ]
     },
     "execution_count": 64,
     "metadata": {},
     "output_type": "execute_result"
    }
   ],
   "source": [
    "pd.DataFrame(coco_format).image_id.nunique()"
   ]
  },
  {
   "cell_type": "code",
   "execution_count": 67,
   "metadata": {},
   "outputs": [
    {
     "data": {
      "text/html": [
       "<div>\n",
       "<style scoped>\n",
       "    .dataframe tbody tr th:only-of-type {\n",
       "        vertical-align: middle;\n",
       "    }\n",
       "\n",
       "    .dataframe tbody tr th {\n",
       "        vertical-align: top;\n",
       "    }\n",
       "\n",
       "    .dataframe thead th {\n",
       "        text-align: right;\n",
       "    }\n",
       "</style>\n",
       "<table border=\"1\" class=\"dataframe\">\n",
       "  <thead>\n",
       "    <tr style=\"text-align: right;\">\n",
       "      <th></th>\n",
       "      <th>id</th>\n",
       "      <th>license</th>\n",
       "      <th>file_name</th>\n",
       "      <th>coco_url</th>\n",
       "      <th>height</th>\n",
       "      <th>width</th>\n",
       "      <th>date_captured</th>\n",
       "      <th>flickr_url</th>\n",
       "    </tr>\n",
       "  </thead>\n",
       "  <tbody>\n",
       "    <tr>\n",
       "      <th>0</th>\n",
       "      <td>0</td>\n",
       "      <td>0</td>\n",
       "      <td>target-001.png</td>\n",
       "      <td></td>\n",
       "      <td>4963</td>\n",
       "      <td>3509</td>\n",
       "      <td></td>\n",
       "      <td></td>\n",
       "    </tr>\n",
       "    <tr>\n",
       "      <th>1</th>\n",
       "      <td>1</td>\n",
       "      <td>0</td>\n",
       "      <td>target-002.png</td>\n",
       "      <td></td>\n",
       "      <td>4963</td>\n",
       "      <td>3509</td>\n",
       "      <td></td>\n",
       "      <td></td>\n",
       "    </tr>\n",
       "    <tr>\n",
       "      <th>2</th>\n",
       "      <td>2</td>\n",
       "      <td>0</td>\n",
       "      <td>target-003.png</td>\n",
       "      <td></td>\n",
       "      <td>4963</td>\n",
       "      <td>3509</td>\n",
       "      <td></td>\n",
       "      <td></td>\n",
       "    </tr>\n",
       "    <tr>\n",
       "      <th>3</th>\n",
       "      <td>3</td>\n",
       "      <td>0</td>\n",
       "      <td>target-004.png</td>\n",
       "      <td></td>\n",
       "      <td>4963</td>\n",
       "      <td>3509</td>\n",
       "      <td></td>\n",
       "      <td></td>\n",
       "    </tr>\n",
       "    <tr>\n",
       "      <th>4</th>\n",
       "      <td>4</td>\n",
       "      <td>0</td>\n",
       "      <td>target-005.png</td>\n",
       "      <td></td>\n",
       "      <td>4963</td>\n",
       "      <td>3509</td>\n",
       "      <td></td>\n",
       "      <td></td>\n",
       "    </tr>\n",
       "    <tr>\n",
       "      <th>...</th>\n",
       "      <td>...</td>\n",
       "      <td>...</td>\n",
       "      <td>...</td>\n",
       "      <td>...</td>\n",
       "      <td>...</td>\n",
       "      <td>...</td>\n",
       "      <td>...</td>\n",
       "      <td>...</td>\n",
       "    </tr>\n",
       "    <tr>\n",
       "      <th>195</th>\n",
       "      <td>195</td>\n",
       "      <td>0</td>\n",
       "      <td>target-576.png</td>\n",
       "      <td></td>\n",
       "      <td>3509</td>\n",
       "      <td>4963</td>\n",
       "      <td></td>\n",
       "      <td></td>\n",
       "    </tr>\n",
       "    <tr>\n",
       "      <th>196</th>\n",
       "      <td>196</td>\n",
       "      <td>0</td>\n",
       "      <td>target-577.png</td>\n",
       "      <td></td>\n",
       "      <td>3509</td>\n",
       "      <td>4963</td>\n",
       "      <td></td>\n",
       "      <td></td>\n",
       "    </tr>\n",
       "    <tr>\n",
       "      <th>197</th>\n",
       "      <td>197</td>\n",
       "      <td>0</td>\n",
       "      <td>target-578.png</td>\n",
       "      <td></td>\n",
       "      <td>3509</td>\n",
       "      <td>4963</td>\n",
       "      <td></td>\n",
       "      <td></td>\n",
       "    </tr>\n",
       "    <tr>\n",
       "      <th>198</th>\n",
       "      <td>198</td>\n",
       "      <td>0</td>\n",
       "      <td>target-579.png</td>\n",
       "      <td></td>\n",
       "      <td>3509</td>\n",
       "      <td>4963</td>\n",
       "      <td></td>\n",
       "      <td></td>\n",
       "    </tr>\n",
       "    <tr>\n",
       "      <th>199</th>\n",
       "      <td>199</td>\n",
       "      <td>0</td>\n",
       "      <td>target-580.png</td>\n",
       "      <td></td>\n",
       "      <td>3509</td>\n",
       "      <td>4963</td>\n",
       "      <td></td>\n",
       "      <td></td>\n",
       "    </tr>\n",
       "  </tbody>\n",
       "</table>\n",
       "<p>200 rows × 8 columns</p>\n",
       "</div>"
      ],
      "text/plain": [
       "      id  license       file_name coco_url  height  width date_captured  \\\n",
       "0      0        0  target-001.png             4963   3509                 \n",
       "1      1        0  target-002.png             4963   3509                 \n",
       "2      2        0  target-003.png             4963   3509                 \n",
       "3      3        0  target-004.png             4963   3509                 \n",
       "4      4        0  target-005.png             4963   3509                 \n",
       "..   ...      ...             ...      ...     ...    ...           ...   \n",
       "195  195        0  target-576.png             3509   4963                 \n",
       "196  196        0  target-577.png             3509   4963                 \n",
       "197  197        0  target-578.png             3509   4963                 \n",
       "198  198        0  target-579.png             3509   4963                 \n",
       "199  199        0  target-580.png             3509   4963                 \n",
       "\n",
       "    flickr_url  \n",
       "0               \n",
       "1               \n",
       "2               \n",
       "3               \n",
       "4               \n",
       "..         ...  \n",
       "195             \n",
       "196             \n",
       "197             \n",
       "198             \n",
       "199             \n",
       "\n",
       "[200 rows x 8 columns]"
      ]
     },
     "execution_count": 67,
     "metadata": {},
     "output_type": "execute_result"
    }
   ],
   "source": [
    "images"
   ]
  },
  {
   "cell_type": "code",
   "execution_count": null,
   "metadata": {},
   "outputs": [],
   "source": []
  }
 ],
 "metadata": {
  "interpreter": {
   "hash": "97d22141c07f9c128e1a7c9074a83290b194bd0cdb63ec92dd0ad20be6970189"
  },
  "kernelspec": {
   "display_name": "Python 3.7.12 64-bit ('mmdet': conda)",
   "language": "python",
   "name": "python3"
  },
  "language_info": {
   "codemirror_mode": {
    "name": "ipython",
    "version": 3
   },
   "file_extension": ".py",
   "mimetype": "text/x-python",
   "name": "python",
   "nbconvert_exporter": "python",
   "pygments_lexer": "ipython3",
   "version": "3.7.12"
  },
  "orig_nbformat": 4
 },
 "nbformat": 4,
 "nbformat_minor": 2
}
